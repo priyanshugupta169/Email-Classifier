{
 "cells": [
  {
   "cell_type": "code",
   "execution_count": 7,
   "metadata": {},
   "outputs": [],
   "source": [
    "import numpy as np\n",
    "import pandas as pd\n",
    "import nltk\n",
    "from nltk.corpus import stopwords\n",
    "import string\n",
    "from sklearn.feature_extraction.text import CountVectorizer,TfidfVectorizer\n",
    "from sklearn.model_selection import train_test_split\n",
    "from sklearn.naive_bayes import MultinomialNB\n",
    "from sklearn.metrics import classification_report,confusion_matrix,accuracy_score\n",
    "from sklearn.svm import SVC\n",
    "from sklearn.ensemble import RandomForestClassifier\n",
    "from sklearn.tree import DecisionTreeClassifier\n",
    "from nltk.stem.snowball import EnglishStemmer\n",
    "import string"
   ]
  },
  {
   "cell_type": "code",
   "execution_count": 8,
   "metadata": {},
   "outputs": [],
   "source": [
    "df=pd.read_csv('email_dataset.csv')\n",
    "# df=pd.read_csv('emails.csv')"
   ]
  },
  {
   "cell_type": "code",
   "execution_count": 9,
   "metadata": {},
   "outputs": [],
   "source": [
    "ps=EnglishStemmer()\n",
    "analyzer=TfidfVectorizer().build_analyzer()\n",
    "def steemer(message):\n",
    "    return (ps.stem(w) for w in analyzer(message))"
   ]
  },
  {
   "cell_type": "code",
   "execution_count": 10,
   "metadata": {},
   "outputs": [
    {
     "data": {
      "text/plain": [
       "(11572, 3)"
      ]
     },
     "execution_count": 10,
     "metadata": {},
     "output_type": "execute_result"
    }
   ],
   "source": [
    "df.shape"
   ]
  },
  {
   "cell_type": "code",
   "execution_count": 11,
   "metadata": {},
   "outputs": [],
   "source": [
    "# corpus = []\n",
    "# for i in range(0, df.shape[0]):\n",
    "#     comment = df['message'][i]\n",
    "#     comment = comment.lower()\n",
    "#     comment = comment.strip()\n",
    "#     comment = comment.split()\n",
    "#     comment = [ps.stem(word) for word in comment if not word in stopwords.words('english')]\n",
    "#     comment = ' '.join(comment)\n",
    "#     corpus.append(comment)"
   ]
  },
  {
   "cell_type": "code",
   "execution_count": 12,
   "metadata": {},
   "outputs": [],
   "source": [
    "vectorizer=TfidfVectorizer(analyzer=steemer,stop_words=stopwords.words('english')+list(string.punctuation),lowercase=True,max_features=1500,min_df=5,max_df=0.7)\n",
    "messages_bow=vectorizer.fit_transform(df['message'].values).toarray()\n",
    "X_train,X_test,y_train,y_test=train_test_split(messages_bow,df['label'].values,test_size=0.20,random_state=0)"
   ]
  },
  {
   "cell_type": "code",
   "execution_count": 13,
   "metadata": {},
   "outputs": [],
   "source": [
    "# vectorizer.get_feature_names()"
   ]
  },
  {
   "cell_type": "code",
   "execution_count": null,
   "metadata": {},
   "outputs": [],
   "source": [
    "# classifier=RandomForestClassifier()\n",
    "# classifier=DecisionTreeClassifier()\n",
    "# classifier=SVC()\n",
    "classifier=MultinomialNB()\n",
    "classifier.fit(X_train,y_train)"
   ]
  },
  {
   "cell_type": "code",
   "execution_count": 9,
   "metadata": {},
   "outputs": [
    {
     "name": "stdout",
     "output_type": "stream",
     "text": [
      "test values\n",
      "              precision    recall  f1-score   support\n",
      "\n",
      "         ham       1.00      1.00      1.00      1909\n",
      "        spam       0.99      0.98      0.99       406\n",
      "\n",
      "   micro avg       1.00      1.00      1.00      2315\n",
      "   macro avg       1.00      0.99      0.99      2315\n",
      "weighted avg       1.00      1.00      1.00      2315\n",
      "\n",
      "[[1907    2]\n",
      " [   8  398]]\n",
      "0.9956803455723542\n"
     ]
    }
   ],
   "source": [
    "predtest=classifier.predict(X_test)\n",
    "print(\"test values\")\n",
    "print(classification_report(y_test,predtest))\n",
    "print(confusion_matrix(y_test,predtest))\n",
    "print(accuracy_score(y_test,predtest))"
   ]
  },
  {
   "cell_type": "code",
   "execution_count": 10,
   "metadata": {},
   "outputs": [],
   "source": [
    "# examples=['Free now!!!','shigeru kiritanus','The','Hi Bob, how about a game of golf tomorrow?','thanku','Congratulations, you won a 1 lack']\n",
    "# example_counts=vectorizer.transform(examples)\n",
    "# predictions=classifier.predict(example_counts)\n",
    "# print(predictions)"
   ]
  },
  {
   "cell_type": "code",
   "execution_count": 11,
   "metadata": {},
   "outputs": [
    {
     "data": {
      "text/plain": [
       "ham     9648\n",
       "spam    1924\n",
       "Name: label, dtype: int64"
      ]
     },
     "execution_count": 11,
     "metadata": {},
     "output_type": "execute_result"
    }
   ],
   "source": [
    "import matplotlib.pyplot as plt\n",
    "df['label'].value_counts()\n",
    "# df['label'].value_counts().plot.pie()"
   ]
  },
  {
   "cell_type": "code",
   "execution_count": 12,
   "metadata": {},
   "outputs": [],
   "source": [
    "# df['label'].value_counts().plot.hist()"
   ]
  },
  {
   "cell_type": "code",
   "execution_count": 13,
   "metadata": {},
   "outputs": [],
   "source": [
    "import cloudpickle\n",
    "cloudpickle.dump(classifier,open('email_classifer','wb'))\n",
    "cloudpickle.dump(vectorizer,open('vectorizer','wb'))"
   ]
  },
  {
   "cell_type": "code",
   "execution_count": 14,
   "metadata": {},
   "outputs": [],
   "source": [
    "# df=df.loc[:,~df.columns.str.contains('^Unnamed')]"
   ]
  },
  {
   "cell_type": "code",
   "execution_count": 3,
   "metadata": {},
   "outputs": [
    {
     "name": "stdout",
     "output_type": "stream",
     "text": [
      "enter the message : Free 1 gb data.\n"
     ]
    }
   ],
   "source": [
    "import cloudpickle\n",
    "model=cloudpickle.load(open('email_classifer','rb'))\n",
    "vectorizer=cloudpickle.load(open('vectorizer','rb'))\n",
    "a=input(\"enter the message : \")"
   ]
  },
  {
   "cell_type": "code",
   "execution_count": 4,
   "metadata": {},
   "outputs": [
    {
     "name": "stdout",
     "output_type": "stream",
     "text": [
      "['ham']\n"
     ]
    }
   ],
   "source": [
    "l=[]\n",
    "l.append(a)\n",
    "a=vectorizer.transform(l)\n",
    "predictions=model.predict(a)\n",
    "print(predictions)"
   ]
  },
  {
   "cell_type": "code",
   "execution_count": 21,
   "metadata": {},
   "outputs": [],
   "source": [
    "# Free 1 gb data. Click on the link below to avail the offer"
   ]
  },
  {
   "cell_type": "code",
   "execution_count": null,
   "metadata": {},
   "outputs": [],
   "source": []
  }
 ],
 "metadata": {
  "kernelspec": {
   "display_name": "Python 3",
   "language": "python",
   "name": "python3"
  },
  "language_info": {
   "codemirror_mode": {
    "name": "ipython",
    "version": 3
   },
   "file_extension": ".py",
   "mimetype": "text/x-python",
   "name": "python",
   "nbconvert_exporter": "python",
   "pygments_lexer": "ipython3",
   "version": "3.7.3"
  }
 },
 "nbformat": 4,
 "nbformat_minor": 2
}
